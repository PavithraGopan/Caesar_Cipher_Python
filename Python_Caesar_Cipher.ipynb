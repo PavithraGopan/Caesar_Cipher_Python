{
  "nbformat": 4,
  "nbformat_minor": 0,
  "metadata": {
    "colab": {
      "provenance": [],
      "authorship_tag": "ABX9TyNu7sYWkV7Kwevt3jwMrtod",
      "include_colab_link": true
    },
    "kernelspec": {
      "name": "python3",
      "display_name": "Python 3"
    },
    "language_info": {
      "name": "python"
    }
  },
  "cells": [
    {
      "cell_type": "markdown",
      "metadata": {
        "id": "view-in-github",
        "colab_type": "text"
      },
      "source": [
        "<a href=\"https://colab.research.google.com/github/PavithraGopan/Caesar_Cipher_Python/blob/main/Python_Caesar_Cipher.ipynb\" target=\"_parent\"><img src=\"https://colab.research.google.com/assets/colab-badge.svg\" alt=\"Open In Colab\"/></a>"
      ]
    },
    {
      "cell_type": "code",
      "execution_count": 2,
      "metadata": {
        "colab": {
          "base_uri": "https://localhost:8080/"
        },
        "id": "1JY33YGO3BiR",
        "outputId": "def57f97-8525-4b11-fb20-9f692a7396e8"
      },
      "outputs": [
        {
          "output_type": "stream",
          "name": "stdout",
          "text": [
            "\n",
            "Secret Code Generator\n",
            "1. Encode a message\n",
            "2. Decode a message\n",
            "3. Exit\n",
            "Please select an option (1, 2, 3): 1\n",
            "Enter the message to encode: I am Pavithra\n",
            "Enter the shift number: 1\n",
            "Encoded message: J bn Qbwjuisb\n",
            "\n",
            "Secret Code Generator\n",
            "1. Encode a message\n",
            "2. Decode a message\n",
            "3. Exit\n",
            "Please select an option (1, 2, 3): 2\n",
            "Enter the message to decode: J bn Qbwjuisb\n",
            "Enter the shift number: 2\n",
            "Decoded message: H zl Ozuhsgqz\n",
            "\n",
            "Secret Code Generator\n",
            "1. Encode a message\n",
            "2. Decode a message\n",
            "3. Exit\n",
            "Please select an option (1, 2, 3): 3\n",
            "Exiting the Secret Code Generator.\n"
          ]
        }
      ],
      "source": [
        "def encode_message(message, shift):\n",
        "    encoded_message = \"\"\n",
        "    for char in message:\n",
        "        if char.isalpha():\n",
        "            shift_base = ord('A') if char.isupper() else ord('a')\n",
        "            new_char = chr((ord(char) - shift_base + shift) % 26 + shift_base)\n",
        "            encoded_message += new_char\n",
        "        else:\n",
        "\n",
        "            encoded_message += char\n",
        "    return encoded_message\n",
        "\n",
        "\n",
        "def decode_message(message, shift):\n",
        "    return encode_message(message, -shift)\n",
        "\n",
        "\n",
        "def secret_code_generator():\n",
        "    while True:\n",
        "        print(\"\\nSecret Code Generator\")\n",
        "        print(\"1. Encode a message\")\n",
        "        print(\"2. Decode a message\")\n",
        "        print(\"3. Exit\")\n",
        "        choice = input(\"Please select an option (1, 2, 3): \")\n",
        "\n",
        "        if choice == '1':\n",
        "\n",
        "            message = input(\"Enter the message to encode: \")\n",
        "            try:\n",
        "                shift = int(input(\"Enter the shift number: \"))\n",
        "                encoded = encode_message(message, shift)\n",
        "                print(f\"Encoded message: {encoded}\")\n",
        "            except ValueError:\n",
        "                print(\"Invalid input. Please enter a valid shift number.\")\n",
        "\n",
        "        elif choice == '2':\n",
        "\n",
        "            message = input(\"Enter the message to decode: \")\n",
        "            try:\n",
        "                shift = int(input(\"Enter the shift number: \"))\n",
        "                decoded = decode_message(message, shift)\n",
        "                print(f\"Decoded message: {decoded}\")\n",
        "            except ValueError:\n",
        "                print(\"Invalid input. Please enter a valid shift number.\")\n",
        "\n",
        "        elif choice == '3':\n",
        "\n",
        "            print(\"Exiting the Secret Code Generator.\")\n",
        "            break\n",
        "        else:\n",
        "            print(\"Invalid choice. Please select 1, 2, or 3.\")\n",
        "\n",
        "\n",
        "if __name__ == \"__main__\":\n",
        "    secret_code_generator()\n"
      ]
    }
  ]
}